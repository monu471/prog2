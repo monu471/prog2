{
 "cells": [
  {
   "cell_type": "code",
   "execution_count": null,
   "id": "d11bf841",
   "metadata": {},
   "outputs": [],
   "source": [
    "# Write a Python program to convert kilometers to miles?\n",
    "a = int(input(\"enter a km \"))\n",
    "b = a*1000\n",
    "print(\"the no in meter is\",b)"
   ]
  },
  {
   "cell_type": "code",
   "execution_count": null,
   "id": "0537f856",
   "metadata": {},
   "outputs": [],
   "source": [
    "# Write a Python program to convert Celsius to Fahrenheit?\n",
    "c = int(input(\"enter number in celsius\\n\"))\n",
    "F = (c* 9/5) + 32\n",
    "print(\"temprature in farenheit is\",F)"
   ]
  },
  {
   "cell_type": "code",
   "execution_count": null,
   "id": "bd8c296f",
   "metadata": {},
   "outputs": [],
   "source": [
    "# Write a Python program to display calendar?\n",
    "import calendar\n",
    "year = 2022\n",
    "month = 1\n",
    "print(calendar.month(year,month))"
   ]
  },
  {
   "cell_type": "code",
   "execution_count": 7,
   "id": "7dbf7d35",
   "metadata": {},
   "outputs": [
    {
     "name": "stdout",
     "output_type": "stream",
     "text": [
      "enter x^2 multiple1\n",
      "enter x multiple2\n",
      "enter constant value3\n",
      "math domain error\n",
      "root is imiginary\n"
     ]
    }
   ],
   "source": [
    "#  Write a Python program to solve quadratic equation?\n",
    "from math import *\n",
    "a = int(input(\"enter x^2 multiple\"))\n",
    "b =  int(input(\"enter x multiple\"))\n",
    "c=  int(input(\"enter constant value\"))\n",
    "try:\n",
    "    d = (-b+sqrt(b**2-4*a*c))/(2*a)\n",
    "    e = (-b-sqrt(b**2-4*a*c))/(2*a)\n",
    "    print(\"root of quardatic equation is\",d,e)\n",
    "except Exception as e:\n",
    "    print(e)\n",
    "    print(\"root is imiginary\")\n"
   ]
  },
  {
   "cell_type": "code",
   "execution_count": null,
   "id": "b4bdacf8",
   "metadata": {},
   "outputs": [],
   "source": [
    "# Write a Python program to swap two variables without temp variable?\n",
    "a = int(input(\"enter a value\"))\n",
    "b =  int(input(\"enter b value\"))\n",
    "a,b = b,a\n",
    "print(\"the value of of a is\",a)\n",
    "print(\"the value of of a is\",b)\n",
    "\n",
    "\n"
   ]
  },
  {
   "cell_type": "code",
   "execution_count": null,
   "id": "89a05a3b",
   "metadata": {},
   "outputs": [],
   "source": []
  }
 ],
 "metadata": {
  "kernelspec": {
   "display_name": "Python 3 (ipykernel)",
   "language": "python",
   "name": "python3"
  },
  "language_info": {
   "codemirror_mode": {
    "name": "ipython",
    "version": 3
   },
   "file_extension": ".py",
   "mimetype": "text/x-python",
   "name": "python",
   "nbconvert_exporter": "python",
   "pygments_lexer": "ipython3",
   "version": "3.9.12"
  }
 },
 "nbformat": 4,
 "nbformat_minor": 5
}
